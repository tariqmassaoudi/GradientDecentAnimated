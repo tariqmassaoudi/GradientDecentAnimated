{
 "cells": [
  {
   "cell_type": "markdown",
   "metadata": {},
   "source": [
    "## Partie 1 "
   ]
  },
  {
   "cell_type": "code",
   "execution_count": 78,
   "metadata": {},
   "outputs": [],
   "source": [
    "import numpy as np\n",
    "import matplotlib.pyplot as plt\n",
    "\n",
    "#1.a) fonction 'SimulateObservations'\n",
    "def SimulateObservations(n,p):\n",
    "  \"\"\"\n",
    "  n: number of obserations to simulate\n",
    "  p: dimension of the observations to simulate\n",
    "  \"\"\"\n",
    "  ObsX=20.*np.random.rand(n,p)\n",
    "  \n",
    "  RefTheta=np.power(np.random.rand(p),3.)\n",
    "  RefTheta=RefTheta/RefTheta.sum()\n",
    "  print(\"The thetas with which the values were simulated is: \"+str(RefTheta))\n",
    "  \n",
    "  ObsY=np.dot(ObsX,RefTheta.reshape(p,1))+1.5*np.random.randn(n,1)\n",
    "  \n",
    "  return [ObsX,ObsY,RefTheta]"
   ]
  },
  {
   "cell_type": "code",
   "execution_count": 79,
   "metadata": {},
   "outputs": [
    {
     "name": "stdout",
     "output_type": "stream",
     "text": [
      "The thetas with which the values were simulated is: [2.50457699e-04 3.01808908e-02 3.81632792e-01 1.18416314e-02\n",
      " 4.81532500e-01 6.77214255e-03 6.28107890e-02 1.23229804e-02\n",
      " 1.22284466e-02 4.27369291e-04]\n"
     ]
    }
   ],
   "source": [
    "ObsX,ObsY,RefTheta=SimulateObservations(50,10)"
   ]
  },
  {
   "cell_type": "code",
   "execution_count": 80,
   "metadata": {},
   "outputs": [],
   "source": [
    "#1.b) generation d'un jeu de donnees \n",
    "\n",
    "X_train=ObsX[:30]\n",
    "Y_train=ObsY[:30]\n",
    "\n",
    "X_test=ObsX[30:]\n",
    "Y_test=ObsY[30:]\n",
    "\n",
    "\n",
    "#1.c) codage de la fonction MSE\n",
    "\n",
    "def MSE(X,Y_true,theta_test):\n",
    "    p=X.shape[1]\n",
    "    Y_pred=np.dot(X,theta_test.reshape(p,1))\n",
    "    return np.sum((Y_true-Y_pred)**2)/p"
   ]
  },
  {
   "cell_type": "code",
   "execution_count": 173,
   "metadata": {},
   "outputs": [],
   "source": [
    "def Grad_function(X,Y_true,f,theta_loc,epsilon=1e-5):\n",
    "  fx=f(X,Y_true,theta_loc)\n",
    "  p=np.size(theta_loc)\n",
    "  ApproxGrad=np.zeros(p)\n",
    "  veps=np.zeros(p)\n",
    "  \n",
    "  for i in range(p):\n",
    "    veps[:]=0.\n",
    "    veps[i]+=epsilon\n",
    "    ApproxGrad[i]=(f(X,Y_true,theta_loc+veps)-fx)/epsilon\n",
    "  return ApproxGrad"
   ]
  },
  {
   "cell_type": "code",
   "execution_count": 174,
   "metadata": {},
   "outputs": [],
   "source": [
    "#1.d) Optimisation en adaptant les fonction de l'exercice 2\n",
    "def Grad_MSE(f,X,Y_true,theta_loc,epsilon=1e-5,T=1000):\n",
    "\n",
    "    mse=[]\n",
    "    for i in range(T):\n",
    "        theta_loc=theta_loc-0.00001*Grad_function(X,Y_true,f,theta_loc,epsilon)\n",
    "        mse.append(f(X,Y_true,theta_loc))\n",
    "    print(f\"le theta final est :{theta_loc}\")\n",
    "    print(f\"le MSE final est :{f(X,Y_true,theta_loc)}\")\n",
    "    plt.plot(mse)\n",
    "    plt.title(\"MSE en fonction de nombre d'itérations\")\n",
    "    return theta_loc\n",
    "        "
   ]
  },
  {
   "cell_type": "code",
   "execution_count": 175,
   "metadata": {},
   "outputs": [
    {
     "name": "stdout",
     "output_type": "stream",
     "text": [
      "le theta final est :[ 0.08991468 -0.02600741  0.43352612 -0.02547207  0.41777326  0.0342038\n",
      "  0.09305568 -0.04077738 -0.00373722 -0.00246684]\n",
      "le MSE final est :2.8795324628058028\n"
     ]
    },
    {
     "data": {
      "image/png": "[encoded data removed]",
      "text/plain": [
       "<Figure size 432x288 with 1 Axes>"
      ]
     },
     "metadata": {
      "needs_background": "light"
     },
     "output_type": "display_data"
    }
   ],
   "source": [
    "theta_loc=np.zeros(10)\n",
    "theta_final=Grad_MSE(MSE,X_train,Y_train,theta_loc,epsilon=1e-5)"
   ]
  },
  {
   "cell_type": "markdown",
   "metadata": {},
   "source": [
    "La convergence semble bonne! "
   ]
  },
  {
   "cell_type": "code",
   "execution_count": 176,
   "metadata": {},
   "outputs": [
    {
     "name": "stdout",
     "output_type": "stream",
     "text": [
      "le theta final est :[ 0.08991468 -0.02600741  0.43352612 -0.02547207  0.41777326  0.0342038\n",
      "  0.09305568 -0.04077738 -0.00373722 -0.00246684]\n",
      "le theta orginial est :[2.50457699e-04 3.01808908e-02 3.81632792e-01 1.18416314e-02\n",
      " 4.81532500e-01 6.77214255e-03 6.28107890e-02 1.23229804e-02\n",
      " 1.22284466e-02 4.27369291e-04]\n"
     ]
    }
   ],
   "source": [
    "\n",
    "\n",
    "print(f\"le theta final est :{theta_final}\")\n",
    "print(f\"le theta orginial est :{RefTheta}\")\n",
    "\n"
   ]
  },
  {
   "cell_type": "markdown",
   "metadata": {},
   "source": [
    "### Explication\n",
    "le theta final est différent du theta ref mais il est en même ordre de grandeur.\n",
    "\n",
    "Ceci est causé par le bruit qu'on a ajouté en simulation"
   ]
  },
  {
   "cell_type": "code",
   "execution_count": 177,
   "metadata": {},
   "outputs": [
    {
     "name": "stdout",
     "output_type": "stream",
     "text": [
      "Train\n",
      "le MSE pour teta initale est: 342.0101839389542\n",
      "le MSE pour teta convergence est: 2.8795324628058028\n",
      "le MSE pour teta reference est: 5.409654747974623\n",
      "--------------------------------------------------------------------------\n",
      "Test\n",
      "le MSE pour teta initale est: 191.68606668582592\n",
      "le MSE pour teta convergence est: 4.523644257671839\n",
      "le MSE pour teta reference est: 2.491265592885219\n"
     ]
    }
   ],
   "source": [
    "#MSE Train\n",
    "train_initial=MSE(X_train,Y_train,np.zeros(10))\n",
    "train_convergence=MSE(X_train,Y_train,theta_final)\n",
    "train_ref=MSE(X_train,Y_train,RefTheta)\n",
    "\n",
    "print(\"Train\")\n",
    "print(f\"le MSE pour teta initale est: {train_initial}\")\n",
    "print(f\"le MSE pour teta convergence est: {train_convergence}\")\n",
    "print(f\"le MSE pour teta reference est: {train_ref}\")\n",
    "\n",
    "print(\"--------------------------------------------------------------------------\")\n",
    "\n",
    "#MSE Test\n",
    "\n",
    "test_initial=MSE(X_test,Y_test,np.zeros(10))\n",
    "test_convergence=MSE(X_test,Y_test,theta_final)\n",
    "test_ref=MSE(X_test,Y_test,RefTheta)\n",
    "\n",
    "print(\"Test\")\n",
    "print(f\"le MSE pour teta initale est: {test_initial}\")\n",
    "print(f\"le MSE pour teta convergence est: {test_convergence}\")\n",
    "print(f\"le MSE pour teta reference est: {test_ref}\")\n",
    "\n",
    "#On constate que le teta convergence performe mieux sur les données de train que sur les test"
   ]
  },
  {
   "cell_type": "markdown",
   "metadata": {},
   "source": [
    "On constate que le teta convergence performe mieux sur les données de train que sur les test. La regression linéaire a overfitté le modèle.Le teta initiale comme prévu donne une erreur assez mal. Le teta référence donne des MSE assez proches que le teta convergence"
   ]
  },
  {
   "cell_type": "markdown",
   "metadata": {},
   "source": [
    "## Partie 2"
   ]
  },
  {
   "cell_type": "markdown",
   "metadata": {},
   "source": [
    "1.Je pense que cela dépendera du choix du coefficient de régularisation avec un coefficient qui tend à l'infini on favorisera de plus en plus des coefficients petits et on saturera pas la contrainte alors que si on fait le choix parfait du coefficient lambda on pourra saturer la contrainte.\n",
    "\n",
    "2. Le langrangien sera: \n",
    "\n",
    "$ \\ \\dfrac{1}{p} \\sum_{i=1}^{+p} (yTrue_i-yPred_i)^2 \\ + \\lambda (\\sum_{i=1}^{+p} |\\theta_i| \\ - 0.95) $"
   ]
  },
  {
   "cell_type": "code",
   "execution_count": 178,
   "metadata": {},
   "outputs": [],
   "source": [
    "def lagrange(X,Y_true,theta_test,lamda=20):\n",
    "    return MSE(X,Y_true,theta_test)+lamda*(np.sum(np.abs(theta_test))-0.95)"
   ]
  },
  {
   "cell_type": "markdown",
   "metadata": {},
   "source": [
    "3. Normalement pour résoudre le problème on cherche les points ou le gradient du lagrangien s'annule, en faite on peut prouver que le lagrangien dans ce cas est une fonction convex donc il existe un minimum global. Le descente de gradient va pas nécessairement le trouver mais s'il est assez proche le problème pouurra être raisonablement résolu."
   ]
  },
  {
   "cell_type": "code",
   "execution_count": 179,
   "metadata": {},
   "outputs": [
    {
     "name": "stdout",
     "output_type": "stream",
     "text": [
      "le theta final est :[ 5.71899219e-02 -2.52167775e-05  3.98793412e-01 -1.23594587e-04\n",
      "  4.05497116e-01  1.47207135e-02  6.93864228e-02  1.02214921e-05\n",
      "  1.04842448e-04  2.68764225e-04]\n",
      "le MSE final est :4.193506278611284\n",
      "--------------------------------------------------------------------------------\n",
      " la somme des theta est 0.9461202255299961\n"
     ]
    },
    {
     "data": {
      "image/png": "[encoded data removed]",
      "text/plain": [
       "<Figure size 432x288 with 1 Axes>"
      ]
     },
     "metadata": {
      "needs_background": "light"
     },
     "output_type": "display_data"
    }
   ],
   "source": [
    "theta_loc=np.zeros(10)\n",
    "theta_final_contrainte=Grad_MSE(lagrange,X_train,Y_train,theta_loc,epsilon=1e-5)\n",
    "print(\"--------------------------------------------------------------------------------\")\n",
    "print(f\" la somme des theta est {np.sum(np.abs(theta_final_contrainte))}\")"
   ]
  },
  {
   "cell_type": "markdown",
   "metadata": {},
   "source": [
    "### Comparaison"
   ]
  },
  {
   "cell_type": "code",
   "execution_count": 180,
   "metadata": {},
   "outputs": [
    {
     "name": "stdout",
     "output_type": "stream",
     "text": [
      "MSE\n",
      "Sans contrainte\n",
      "Le MSE final train est 2.8795324628058028\n",
      "Le MSE final Test est 4.523644257671839\n",
      "------------------------------------------\n",
      "Avec contrainte\n",
      "Le MSE final train est 4.271101768011362\n",
      "Le MSE final Test est 4.131164427911078\n",
      "------------------------------------------------------------------------------------\n",
      "Theta\n",
      "Le theta final sans contrainte est [ 0.08991468 -0.02600741  0.43352612 -0.02547207  0.41777326  0.0342038\n",
      "  0.09305568 -0.04077738 -0.00373722 -0.00246684] \n",
      "Somme: 1.166934461740957\n",
      "\n",
      "Le theta final avec contrainte est [ 5.71899219e-02 -2.52167775e-05  3.98793412e-01 -1.23594587e-04\n",
      "  4.05497116e-01  1.47207135e-02  6.93864228e-02  1.02214921e-05\n",
      "  1.04842448e-04  2.68764225e-04]\n",
      "Somme: 0.9461202255299961\n"
     ]
    }
   ],
   "source": [
    "#MSE\n",
    "\n",
    "print(\"MSE\")\n",
    "print(\"Sans contrainte\")\n",
    "\n",
    "print(f\"Le MSE final train est {MSE(X_train,Y_train,theta_final)}\")\n",
    "print(f\"Le MSE final Test est {MSE(X_test,Y_test,theta_final)}\")\n",
    "print(\"------------------------------------------\")\n",
    "print(\"Avec contrainte\")\n",
    "\n",
    "print(f\"Le MSE final train est {MSE(X_train,Y_train,theta_final_contrainte)}\")\n",
    "print(f\"Le MSE final Test est {MSE(X_test,Y_test,theta_final_contrainte)}\")\n",
    "\n",
    "#Theta final\n",
    "print(\"------------------------------------------------------------------------------------\")\n",
    "print(\"Theta\")\n",
    "\n",
    "print(f\"Le theta final sans contrainte est {theta_final} \")\n",
    "print(f\"Somme: {np.sum(np.abs(theta_final))}\")\n",
    "print()\n",
    "print(f\"Le theta final avec contrainte est {theta_final_contrainte}\")\n",
    "print(f\"Somme: {np.sum(np.abs(theta_final_contrainte))}\")\n",
    "\n",
    "\n"
   ]
  },
  {
   "cell_type": "markdown",
   "metadata": {},
   "source": [
    "### Comparaison"
   ]
  },
  {
   "cell_type": "markdown",
   "metadata": {},
   "source": [
    "Avec contrainte les coefficients sont de teta sont plus petit dont certains sont trés proches du 0 , on peut constater que si plus on augemente le lambda plus les coefficients deviennent plus petit. Cela permet d'une sorte d'annuler le poid des variables les moins informatives.Aprés réglage de lambda, on arrive a une somme de 0.946 qui est assez proche de 0.95\n",
    "\n",
    "En ce qui concerne le MSE, le lasso performe mois bon sur le train mais gagne sur le dataset test! Donc le lasso est meilleur en pratique. Ce résultat peut être expliqué par l'effet de régularisation qu'on a ajoutée par l'introduction du lambda, en effet la regression linéraire simple a overfitté les données alors que le lasso a fait un meilleur travail de généralier au déla des données d'entrainement."
   ]
  }
 ],
 "metadata": {
  "kernelspec": {
   "display_name": "Python 3",
   "language": "python",
   "name": "python3"
  },
  "language_info": {
   "codemirror_mode": {
    "name": "ipython",
    "version": 3
   },
   "file_extension": ".py",
   "mimetype": "text/x-python",
   "name": "python",
   "nbconvert_exporter": "python",
   "pygments_lexer": "ipython3",
   "version": "3.6.9"
  }
 },
 "nbformat": 4,
 "nbformat_minor": 2
}
