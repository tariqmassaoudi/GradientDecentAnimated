{
 "cells": [
  {
   "cell_type": "markdown",
   "metadata": {},
   "source": [
    "\n",
    "## Exercice 2 - Descente de gradient en nD\n",
    "\n",
    "On souhaite minimiser $f(x,y,z) = x^2 + 0.2*(y-2)^2 +  exp(z)/(1+exp(z))$ à l'aide d'une methode de descente de gradient, i.e. :\n",
    "- **Init :** $(x_0,y_0,z_0) = (x_{init},y_{init},z_{init})$ \n",
    "- **Repeat until convergence :** $(x_{i+1},y_{i+1},z_{i+1})  - \\alpha \\nabla f (x_{i},y_{i},z_{i})$\n",
    "\n",
    "où le gradient de $f$ sera calculé par differences finies\n",
    "\n",
    "Questions :\n",
    " - Codez funct(theta) qui retourne f(theta), où theta est un np.array qui contient les p variables à optimiser (i.e. x,y,z dans notre probleme). Pour pouvoir ré-utiliser cette fonction par la suite, theta sera d'une dimension p non-predefinie\n",
    " - Codez Grad_function(f,theta,epsilon) qui retourne le gradient de la fonction f au point theta. La variable epsilon sera utilisée pour approximer les dervées comme dans l'exercice 1.\n",
    " - Utilisez Grad_function(funct,theta,0.001) pour minimiser f(theta). Representez l'evolution de funct(theta) au cours des iterations.\n",
    " - Quelle strategie utiliseriez-vous pour definir le terme alpha automatiquement ?\n",
    "\n"
   ]
  },
  {
   "cell_type": "code",
   "execution_count": 1,
   "metadata": {},
   "outputs": [],
   "source": [
    "\n",
    "#import libraries\n",
    "import numpy as np\n",
    "import matplotlib.pyplot as plt\n",
    "\n",
    "\n",
    "#define the function\n",
    "def funct(theta):\n",
    "  p=theta.shape[0]\n",
    "  x=theta[0]\n",
    "  y=theta[1]\n",
    "  z=theta[2]\n",
    "  return np.power(x,2) + 0.2*np.power(y-2,2) +  np.exp(z)/(1+np.exp(z))\n",
    "\n",
    "\n",
    "\n",
    "#compute the gradient of a function with respect to its parameters theta\n",
    "def Grad_function(f,theta_loc,epsilon=1e-5):\n",
    "  fx=f(theta_loc)\n",
    "  p=np.size(theta_loc)\n",
    "  ApproxGrad=np.zeros(p)\n",
    "  veps=np.zeros(p)\n",
    "  \n",
    "  for i in range(p):\n",
    "    veps[:]=0.\n",
    "    veps[i]+=epsilon\n",
    "    ApproxGrad[i]=(f(theta_loc+veps)-fx)/epsilon\n",
    "  return ApproxGrad\n"
   ]
  },
  {
   "cell_type": "code",
   "execution_count": 2,
   "metadata": {},
   "outputs": [
    {
     "data": {
      "image/png": "[encoded data removed]",
      "text/plain": [
       "<Figure size 432x288 with 1 Axes>"
      ]
     },
     "metadata": {
      "needs_background": "light"
     },
     "output_type": "display_data"
    }
   ],
   "source": [
    "#descente de gradient avec alpha defini a la main\n",
    "theta_init=np.array([0.,0.,0.])\n",
    "\n",
    "evo_f_theta=[]\n",
    "alpha=0.1\n",
    "theta=theta_init.copy()\n",
    "for i in range(100):\n",
    "  theta=theta-alpha*Grad_function(funct,theta,0.001)\n",
    "  evo_f_theta.append(funct(theta))\n",
    "  \n",
    "  \n",
    "plt.plot(evo_f_theta)\n",
    "plt.show()\n"
   ]
  },
  {
   "cell_type": "code",
   "execution_count": 3,
   "metadata": {},
   "outputs": [
    {
     "data": {
      "image/png": "[encoded data removed]",
      "text/plain": [
       "<Figure size 432x288 with 1 Axes>"
      ]
     },
     "metadata": {
      "needs_background": "light"
     },
     "output_type": "display_data"
    }
   ],
   "source": [
    "\n",
    "#descente de gradient avec alpha defini automatiquement a la premiere iteration\n",
    "theta_init=np.array([0.,0.,0.])\n",
    "\n",
    "amplitude_update_init_classique=0.2\n",
    "\n",
    "evo_f_theta=[]\n",
    "\n",
    "theta=theta_init.copy()\n",
    "for i in range(100):\n",
    "  gf=Grad_function(funct,theta,0.001)\n",
    "  \n",
    "  if i==0:\n",
    "    alpha=amplitude_update_init_classique/np.linalg.norm(gf)\n",
    "\n",
    "  theta=theta-alpha*gf\n",
    "  evo_f_theta.append(funct(theta))\n",
    "  \n",
    "  \n",
    "plt.plot(evo_f_theta)\n",
    "plt.show()\n",
    "\n"
   ]
  },
  {
   "cell_type": "code",
   "execution_count": null,
   "metadata": {},
   "outputs": [],
   "source": []
  },
  {
   "cell_type": "code",
   "execution_count": null,
   "metadata": {},
   "outputs": [],
   "source": []
  },
  {
   "cell_type": "code",
   "execution_count": null,
   "metadata": {},
   "outputs": [],
   "source": []
  },
  {
   "cell_type": "code",
   "execution_count": null,
   "metadata": {},
   "outputs": [],
   "source": []
  },
  {
   "cell_type": "code",
   "execution_count": null,
   "metadata": {},
   "outputs": [],
   "source": []
  },
  {
   "cell_type": "code",
   "execution_count": null,
   "metadata": {},
   "outputs": [],
   "source": []
  },
  {
   "cell_type": "code",
   "execution_count": null,
   "metadata": {},
   "outputs": [],
   "source": [
    "\n",
    "\n",
    "\n",
    "\n",
    "\n"
   ]
  }
 ],
 "metadata": {
  "anaconda-cloud": {},
  "kernelspec": {
   "display_name": "Python 3",
   "language": "python",
   "name": "python3"
  },
  "language_info": {
   "codemirror_mode": {
    "name": "ipython",
    "version": 3
   },
   "file_extension": ".py",
   "mimetype": "text/x-python",
   "name": "python",
   "nbconvert_exporter": "python",
   "pygments_lexer": "ipython3",
   "version": "3.6.9"
  }
 },
 "nbformat": 4,
 "nbformat_minor": 4
}
